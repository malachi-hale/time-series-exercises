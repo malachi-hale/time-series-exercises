{
 "cells": [
  {
   "cell_type": "markdown",
   "id": "8696636e",
   "metadata": {},
   "source": [
    "# Acquire Exercises"
   ]
  },
  {
   "cell_type": "markdown",
   "id": "4d919042",
   "metadata": {},
   "source": [
    "## Import libraries"
   ]
  },
  {
   "cell_type": "code",
   "execution_count": 119,
   "id": "217fc57c",
   "metadata": {},
   "outputs": [],
   "source": [
    "import requests\n",
    "import pandas as pd\n",
    "import os"
   ]
  },
  {
   "cell_type": "markdown",
   "id": "581afffb",
   "metadata": {},
   "source": [
    "## Exercise 1\n",
    "\n",
    "Using the code from the lesson as a guide and the REST API from https://python.zgulde.net/api/v1/items as we did in the lesson, create a dataframe named items that has all of the data for items."
   ]
  },
  {
   "cell_type": "code",
   "execution_count": 120,
   "id": "db802763",
   "metadata": {},
   "outputs": [
    {
     "name": "stdout",
     "output_type": "stream",
     "text": [
      "{\"api\":\"/api/v1\",\"help\":\"/documentation\"}\n",
      "\n"
     ]
    }
   ],
   "source": [
    "base_url = 'https://python.zgulde.net'\n",
    "print(requests.get(base_url).text)"
   ]
  },
  {
   "cell_type": "code",
   "execution_count": 121,
   "id": "6b5cc7e0",
   "metadata": {},
   "outputs": [
    {
     "data": {
      "text/plain": [
       "dict_keys(['payload', 'status'])"
      ]
     },
     "execution_count": 121,
     "metadata": {},
     "output_type": "execute_result"
    }
   ],
   "source": [
    "response = requests.get(base_url + '/api/v1/items')\n",
    "\n",
    "data = response.json()\n",
    "data.keys()"
   ]
  },
  {
   "cell_type": "code",
   "execution_count": 122,
   "id": "717292d4",
   "metadata": {},
   "outputs": [
    {
     "data": {
      "text/plain": [
       "dict_keys(['items', 'max_page', 'next_page', 'page', 'previous_page'])"
      ]
     },
     "execution_count": 122,
     "metadata": {},
     "output_type": "execute_result"
    }
   ],
   "source": [
    "data['payload'].keys()"
   ]
  },
  {
   "cell_type": "code",
   "execution_count": 123,
   "id": "34ab49bd",
   "metadata": {},
   "outputs": [
    {
     "name": "stdout",
     "output_type": "stream",
     "text": [
      "max_page: 3\n",
      "next_page: /api/v1/items?page=2\n",
      "page: 1\n",
      "previous_page: None\n"
     ]
    }
   ],
   "source": [
    "print('max_page: %s' % data['payload']['max_page'])\n",
    "print('next_page: %s' % data['payload']['next_page'])\n",
    "print('page: %s' % data['payload']['page'])\n",
    "print('previous_page: %s' % data['payload']['previous_page'])"
   ]
  },
  {
   "cell_type": "code",
   "execution_count": 43,
   "id": "3a8d5b98",
   "metadata": {},
   "outputs": [
    {
     "data": {
      "text/plain": [
       "'ok'"
      ]
     },
     "execution_count": 43,
     "metadata": {},
     "output_type": "execute_result"
    }
   ],
   "source": [
    "data['status']"
   ]
  },
  {
   "cell_type": "code",
   "execution_count": 124,
   "id": "b63fd8c7",
   "metadata": {},
   "outputs": [
    {
     "data": {
      "text/html": [
       "<div>\n",
       "<style scoped>\n",
       "    .dataframe tbody tr th:only-of-type {\n",
       "        vertical-align: middle;\n",
       "    }\n",
       "\n",
       "    .dataframe tbody tr th {\n",
       "        vertical-align: top;\n",
       "    }\n",
       "\n",
       "    .dataframe thead th {\n",
       "        text-align: right;\n",
       "    }\n",
       "</style>\n",
       "<table border=\"1\" class=\"dataframe\">\n",
       "  <thead>\n",
       "    <tr style=\"text-align: right;\">\n",
       "      <th></th>\n",
       "      <th>item_brand</th>\n",
       "      <th>item_id</th>\n",
       "      <th>item_name</th>\n",
       "      <th>item_price</th>\n",
       "      <th>item_upc12</th>\n",
       "      <th>item_upc14</th>\n",
       "    </tr>\n",
       "  </thead>\n",
       "  <tbody>\n",
       "    <tr>\n",
       "      <th>0</th>\n",
       "      <td>Riceland</td>\n",
       "      <td>1</td>\n",
       "      <td>Riceland American Jazmine Rice</td>\n",
       "      <td>0.84</td>\n",
       "      <td>35200264013</td>\n",
       "      <td>35200264013</td>\n",
       "    </tr>\n",
       "    <tr>\n",
       "      <th>1</th>\n",
       "      <td>Caress</td>\n",
       "      <td>2</td>\n",
       "      <td>Caress Velvet Bliss Ultra Silkening Beauty Bar...</td>\n",
       "      <td>6.44</td>\n",
       "      <td>11111065925</td>\n",
       "      <td>11111065925</td>\n",
       "    </tr>\n",
       "    <tr>\n",
       "      <th>2</th>\n",
       "      <td>Earths Best</td>\n",
       "      <td>3</td>\n",
       "      <td>Earths Best Organic Fruit Yogurt Smoothie Mixe...</td>\n",
       "      <td>2.43</td>\n",
       "      <td>23923330139</td>\n",
       "      <td>23923330139</td>\n",
       "    </tr>\n",
       "    <tr>\n",
       "      <th>3</th>\n",
       "      <td>Boars Head</td>\n",
       "      <td>4</td>\n",
       "      <td>Boars Head Sliced White American Cheese - 120 Ct</td>\n",
       "      <td>3.14</td>\n",
       "      <td>208528800007</td>\n",
       "      <td>208528800007</td>\n",
       "    </tr>\n",
       "    <tr>\n",
       "      <th>4</th>\n",
       "      <td>Back To Nature</td>\n",
       "      <td>5</td>\n",
       "      <td>Back To Nature Gluten Free White Cheddar Rice ...</td>\n",
       "      <td>2.61</td>\n",
       "      <td>759283100036</td>\n",
       "      <td>759283100036</td>\n",
       "    </tr>\n",
       "  </tbody>\n",
       "</table>\n",
       "</div>"
      ],
      "text/plain": [
       "       item_brand  item_id                                          item_name  \\\n",
       "0        Riceland        1                     Riceland American Jazmine Rice   \n",
       "1          Caress        2  Caress Velvet Bliss Ultra Silkening Beauty Bar...   \n",
       "2     Earths Best        3  Earths Best Organic Fruit Yogurt Smoothie Mixe...   \n",
       "3      Boars Head        4   Boars Head Sliced White American Cheese - 120 Ct   \n",
       "4  Back To Nature        5  Back To Nature Gluten Free White Cheddar Rice ...   \n",
       "\n",
       "   item_price    item_upc12    item_upc14  \n",
       "0        0.84   35200264013   35200264013  \n",
       "1        6.44   11111065925   11111065925  \n",
       "2        2.43   23923330139   23923330139  \n",
       "3        3.14  208528800007  208528800007  \n",
       "4        2.61  759283100036  759283100036  "
      ]
     },
     "execution_count": 124,
     "metadata": {},
     "output_type": "execute_result"
    }
   ],
   "source": [
    "df_1 = pd.DataFrame(data['payload']['items'])\n",
    "df_1.head()"
   ]
  },
  {
   "cell_type": "code",
   "execution_count": 125,
   "id": "bc7d7f31",
   "metadata": {},
   "outputs": [
    {
     "name": "stdout",
     "output_type": "stream",
     "text": [
      "max_page: 3\n",
      "next_page: /api/v1/items?page=3\n",
      "page: 2\n",
      "previous_page: /api/v1/items?page=1\n"
     ]
    }
   ],
   "source": [
    "response = requests.get(base_url + data['payload']['next_page'])\n",
    "data = response.json()\n",
    "\n",
    "print('max_page: %s' % data['payload']['max_page'])\n",
    "print('next_page: %s' % data['payload']['next_page'])\n",
    "print('page: %s' % data['payload']['page'])\n",
    "print('previous_page: %s' % data['payload']['previous_page'])\n",
    "\n",
    "df_1 = pd.concat([df_1, pd.DataFrame(data['payload']['items'])]).reset_index()"
   ]
  },
  {
   "cell_type": "code",
   "execution_count": 126,
   "id": "50deeb0c",
   "metadata": {},
   "outputs": [
    {
     "name": "stdout",
     "output_type": "stream",
     "text": [
      "max_page: 3\n",
      "next_page: None\n"
     ]
    }
   ],
   "source": [
    "response = requests.get(base_url + data['payload']['next_page'])\n",
    "data = response.json()\n",
    "\n",
    "print('max_page: %s' % data['payload']['max_page'])\n",
    "print('next_page: %s' % data['payload']['next_page'])\n",
    "\n",
    "df_1 = pd.concat([df_1, pd.DataFrame(data['payload']['items'])]).reset_index()"
   ]
  },
  {
   "cell_type": "code",
   "execution_count": 127,
   "id": "744335a5",
   "metadata": {},
   "outputs": [
    {
     "data": {
      "text/html": [
       "<div>\n",
       "<style scoped>\n",
       "    .dataframe tbody tr th:only-of-type {\n",
       "        vertical-align: middle;\n",
       "    }\n",
       "\n",
       "    .dataframe tbody tr th {\n",
       "        vertical-align: top;\n",
       "    }\n",
       "\n",
       "    .dataframe thead th {\n",
       "        text-align: right;\n",
       "    }\n",
       "</style>\n",
       "<table border=\"1\" class=\"dataframe\">\n",
       "  <thead>\n",
       "    <tr style=\"text-align: right;\">\n",
       "      <th></th>\n",
       "      <th>level_0</th>\n",
       "      <th>index</th>\n",
       "      <th>item_brand</th>\n",
       "      <th>item_id</th>\n",
       "      <th>item_name</th>\n",
       "      <th>item_price</th>\n",
       "      <th>item_upc12</th>\n",
       "      <th>item_upc14</th>\n",
       "    </tr>\n",
       "  </thead>\n",
       "  <tbody>\n",
       "    <tr>\n",
       "      <th>0</th>\n",
       "      <td>0</td>\n",
       "      <td>0.0</td>\n",
       "      <td>Riceland</td>\n",
       "      <td>1</td>\n",
       "      <td>Riceland American Jazmine Rice</td>\n",
       "      <td>0.84</td>\n",
       "      <td>35200264013</td>\n",
       "      <td>35200264013</td>\n",
       "    </tr>\n",
       "    <tr>\n",
       "      <th>1</th>\n",
       "      <td>1</td>\n",
       "      <td>1.0</td>\n",
       "      <td>Caress</td>\n",
       "      <td>2</td>\n",
       "      <td>Caress Velvet Bliss Ultra Silkening Beauty Bar...</td>\n",
       "      <td>6.44</td>\n",
       "      <td>11111065925</td>\n",
       "      <td>11111065925</td>\n",
       "    </tr>\n",
       "    <tr>\n",
       "      <th>2</th>\n",
       "      <td>2</td>\n",
       "      <td>2.0</td>\n",
       "      <td>Earths Best</td>\n",
       "      <td>3</td>\n",
       "      <td>Earths Best Organic Fruit Yogurt Smoothie Mixe...</td>\n",
       "      <td>2.43</td>\n",
       "      <td>23923330139</td>\n",
       "      <td>23923330139</td>\n",
       "    </tr>\n",
       "    <tr>\n",
       "      <th>3</th>\n",
       "      <td>3</td>\n",
       "      <td>3.0</td>\n",
       "      <td>Boars Head</td>\n",
       "      <td>4</td>\n",
       "      <td>Boars Head Sliced White American Cheese - 120 Ct</td>\n",
       "      <td>3.14</td>\n",
       "      <td>208528800007</td>\n",
       "      <td>208528800007</td>\n",
       "    </tr>\n",
       "    <tr>\n",
       "      <th>4</th>\n",
       "      <td>4</td>\n",
       "      <td>4.0</td>\n",
       "      <td>Back To Nature</td>\n",
       "      <td>5</td>\n",
       "      <td>Back To Nature Gluten Free White Cheddar Rice ...</td>\n",
       "      <td>2.61</td>\n",
       "      <td>759283100036</td>\n",
       "      <td>759283100036</td>\n",
       "    </tr>\n",
       "  </tbody>\n",
       "</table>\n",
       "</div>"
      ],
      "text/plain": [
       "   level_0  index      item_brand  item_id  \\\n",
       "0        0    0.0        Riceland        1   \n",
       "1        1    1.0          Caress        2   \n",
       "2        2    2.0     Earths Best        3   \n",
       "3        3    3.0      Boars Head        4   \n",
       "4        4    4.0  Back To Nature        5   \n",
       "\n",
       "                                           item_name  item_price  \\\n",
       "0                     Riceland American Jazmine Rice        0.84   \n",
       "1  Caress Velvet Bliss Ultra Silkening Beauty Bar...        6.44   \n",
       "2  Earths Best Organic Fruit Yogurt Smoothie Mixe...        2.43   \n",
       "3   Boars Head Sliced White American Cheese - 120 Ct        3.14   \n",
       "4  Back To Nature Gluten Free White Cheddar Rice ...        2.61   \n",
       "\n",
       "     item_upc12    item_upc14  \n",
       "0   35200264013   35200264013  \n",
       "1   11111065925   11111065925  \n",
       "2   23923330139   23923330139  \n",
       "3  208528800007  208528800007  \n",
       "4  759283100036  759283100036  "
      ]
     },
     "execution_count": 127,
     "metadata": {},
     "output_type": "execute_result"
    }
   ],
   "source": [
    "df_1.head()"
   ]
  },
  {
   "cell_type": "code",
   "execution_count": 129,
   "id": "716f1bab",
   "metadata": {},
   "outputs": [
    {
     "data": {
      "text/plain": [
       "(50, 8)"
      ]
     },
     "execution_count": 129,
     "metadata": {},
     "output_type": "execute_result"
    }
   ],
   "source": [
    "df_1.shape"
   ]
  },
  {
   "cell_type": "markdown",
   "id": "d5769cbd",
   "metadata": {},
   "source": [
    "## Exercise 2\n",
    "\n",
    "Do the same thing, but for stores (https://python.zgulde.net/api/v1/stores)."
   ]
  },
  {
   "cell_type": "code",
   "execution_count": 132,
   "id": "5468f906",
   "metadata": {},
   "outputs": [
    {
     "data": {
      "text/plain": [
       "dict_keys(['payload', 'status'])"
      ]
     },
     "execution_count": 132,
     "metadata": {},
     "output_type": "execute_result"
    }
   ],
   "source": [
    "response = requests.get(base_url + '/api/v1/stores')\n",
    "\n",
    "data = response.json()\n",
    "data.keys()"
   ]
  },
  {
   "cell_type": "code",
   "execution_count": 133,
   "id": "261aece5",
   "metadata": {},
   "outputs": [
    {
     "data": {
      "text/plain": [
       "'ok'"
      ]
     },
     "execution_count": 133,
     "metadata": {},
     "output_type": "execute_result"
    }
   ],
   "source": [
    "data['status']"
   ]
  },
  {
   "cell_type": "code",
   "execution_count": 134,
   "id": "0a09d72b",
   "metadata": {},
   "outputs": [
    {
     "data": {
      "text/plain": [
       "dict_keys(['max_page', 'next_page', 'page', 'previous_page', 'stores'])"
      ]
     },
     "execution_count": 134,
     "metadata": {},
     "output_type": "execute_result"
    }
   ],
   "source": [
    "data['payload'].keys()"
   ]
  },
  {
   "cell_type": "code",
   "execution_count": 135,
   "id": "4ecfd2b2",
   "metadata": {},
   "outputs": [
    {
     "name": "stdout",
     "output_type": "stream",
     "text": [
      "max_page: 1\n",
      "next_page: None\n",
      "page: 1\n",
      "previous_page: None\n"
     ]
    }
   ],
   "source": [
    "print('max_page: %s' % data['payload']['max_page'])\n",
    "print('next_page: %s' % data['payload']['next_page'])\n",
    "print('page: %s' % data['payload']['page'])\n",
    "print('previous_page: %s' % data['payload']['previous_page'])"
   ]
  },
  {
   "cell_type": "code",
   "execution_count": 136,
   "id": "4e4ad312",
   "metadata": {},
   "outputs": [
    {
     "data": {
      "text/html": [
       "<div>\n",
       "<style scoped>\n",
       "    .dataframe tbody tr th:only-of-type {\n",
       "        vertical-align: middle;\n",
       "    }\n",
       "\n",
       "    .dataframe tbody tr th {\n",
       "        vertical-align: top;\n",
       "    }\n",
       "\n",
       "    .dataframe thead th {\n",
       "        text-align: right;\n",
       "    }\n",
       "</style>\n",
       "<table border=\"1\" class=\"dataframe\">\n",
       "  <thead>\n",
       "    <tr style=\"text-align: right;\">\n",
       "      <th></th>\n",
       "      <th>store_address</th>\n",
       "      <th>store_city</th>\n",
       "      <th>store_id</th>\n",
       "      <th>store_state</th>\n",
       "      <th>store_zipcode</th>\n",
       "    </tr>\n",
       "  </thead>\n",
       "  <tbody>\n",
       "    <tr>\n",
       "      <th>0</th>\n",
       "      <td>12125 Alamo Ranch Pkwy</td>\n",
       "      <td>San Antonio</td>\n",
       "      <td>1</td>\n",
       "      <td>TX</td>\n",
       "      <td>78253</td>\n",
       "    </tr>\n",
       "    <tr>\n",
       "      <th>1</th>\n",
       "      <td>9255 FM 471 West</td>\n",
       "      <td>San Antonio</td>\n",
       "      <td>2</td>\n",
       "      <td>TX</td>\n",
       "      <td>78251</td>\n",
       "    </tr>\n",
       "    <tr>\n",
       "      <th>2</th>\n",
       "      <td>2118 Fredericksburg Rdj</td>\n",
       "      <td>San Antonio</td>\n",
       "      <td>3</td>\n",
       "      <td>TX</td>\n",
       "      <td>78201</td>\n",
       "    </tr>\n",
       "    <tr>\n",
       "      <th>3</th>\n",
       "      <td>516 S Flores St</td>\n",
       "      <td>San Antonio</td>\n",
       "      <td>4</td>\n",
       "      <td>TX</td>\n",
       "      <td>78204</td>\n",
       "    </tr>\n",
       "    <tr>\n",
       "      <th>4</th>\n",
       "      <td>1520 Austin Hwy</td>\n",
       "      <td>San Antonio</td>\n",
       "      <td>5</td>\n",
       "      <td>TX</td>\n",
       "      <td>78218</td>\n",
       "    </tr>\n",
       "  </tbody>\n",
       "</table>\n",
       "</div>"
      ],
      "text/plain": [
       "             store_address   store_city  store_id store_state store_zipcode\n",
       "0   12125 Alamo Ranch Pkwy  San Antonio         1          TX         78253\n",
       "1         9255 FM 471 West  San Antonio         2          TX         78251\n",
       "2  2118 Fredericksburg Rdj  San Antonio         3          TX         78201\n",
       "3          516 S Flores St  San Antonio         4          TX         78204\n",
       "4          1520 Austin Hwy  San Antonio         5          TX         78218"
      ]
     },
     "execution_count": 136,
     "metadata": {},
     "output_type": "execute_result"
    }
   ],
   "source": [
    "df_2 = pd.DataFrame(data['payload']['stores'])\n",
    "df_2.head()"
   ]
  },
  {
   "cell_type": "code",
   "execution_count": 137,
   "id": "f18f98d2",
   "metadata": {},
   "outputs": [
    {
     "data": {
      "text/plain": [
       "(10, 5)"
      ]
     },
     "execution_count": 137,
     "metadata": {},
     "output_type": "execute_result"
    }
   ],
   "source": [
    "df_2.shape"
   ]
  },
  {
   "cell_type": "markdown",
   "id": "b7c24a84",
   "metadata": {},
   "source": [
    "## Exercise 3\n",
    "\n",
    "Extract the data for sales (https://python.zgulde.net/api/v1/sales). There are a lot of pages of data here, so your code will need to be a little more complex. Your code should continue fetching data from the next page until all of the data is extracted.\n",
    "\n",
    "AND \n",
    "\n",
    "## Exercise 4\n",
    "\n",
    "Save the data in your files to local csv files so that it will be faster to access in the future."
   ]
  },
  {
   "cell_type": "code",
   "execution_count": 147,
   "id": "cb035314",
   "metadata": {},
   "outputs": [
    {
     "data": {
      "text/plain": [
       "dict_keys(['payload', 'status'])"
      ]
     },
     "execution_count": 147,
     "metadata": {},
     "output_type": "execute_result"
    }
   ],
   "source": [
    "response = requests.get(base_url + '/api/v1/sales')\n",
    "\n",
    "\n",
    "data = response.json()\n",
    "data.keys()"
   ]
  },
  {
   "cell_type": "code",
   "execution_count": 148,
   "id": "61f2822f",
   "metadata": {},
   "outputs": [
    {
     "data": {
      "text/plain": [
       "'ok'"
      ]
     },
     "execution_count": 148,
     "metadata": {},
     "output_type": "execute_result"
    }
   ],
   "source": [
    "data['status']"
   ]
  },
  {
   "cell_type": "code",
   "execution_count": 149,
   "id": "9cc9aeed",
   "metadata": {},
   "outputs": [
    {
     "data": {
      "text/plain": [
       "dict_keys(['max_page', 'next_page', 'page', 'previous_page', 'sales'])"
      ]
     },
     "execution_count": 149,
     "metadata": {},
     "output_type": "execute_result"
    }
   ],
   "source": [
    "data['payload'].keys()"
   ]
  },
  {
   "cell_type": "code",
   "execution_count": 150,
   "id": "57f66b44",
   "metadata": {},
   "outputs": [
    {
     "name": "stdout",
     "output_type": "stream",
     "text": [
      "max_page: 183\n",
      "next_page: /api/v1/sales?page=2\n",
      "page: 1\n",
      "previous_page: None\n"
     ]
    }
   ],
   "source": [
    "print('max_page: %s' % data['payload']['max_page'])\n",
    "print('next_page: %s' % data['payload']['next_page'])\n",
    "print('page: %s' % data['payload']['page'])\n",
    "print('previous_page: %s' % data['payload']['previous_page'])"
   ]
  },
  {
   "cell_type": "code",
   "execution_count": 162,
   "id": "d41de0a4",
   "metadata": {},
   "outputs": [],
   "source": [
    "def get_sales_data():\n",
    "    url = 'https://python.zgulde.net/api/v1/sales'\n",
    "    response = requests.get(url)\n",
    "\n",
    "    filename = 'sales.csv'\n",
    "    if os.path.isfile(filename):\n",
    "        sales = pd.read_csv(filename, index_col=[0])\n",
    "    else:\n",
    "        if response.ok:\n",
    "            extracted_data = list()\n",
    "            payload = response.json()['payload']\n",
    "            max_page = payload['max_page']\n",
    "            for n in range(max_page):\n",
    "                extracted_data.extend(payload['sales'])\n",
    "                try:\n",
    "                    new_url = url[:25] + payload['next_page']\n",
    "                    print(new_url)\n",
    "                    response = requests.get(new_url)\n",
    "                    payload = response.json()['payload']\n",
    "                except:\n",
    "                    pass\n",
    "                \n",
    "            sales = pd.DataFrame(extracted_data)\n",
    "            sales.to_csv(filename)\n",
    "\n",
    "        else:\n",
    "            print(response.status_codeup_code)\n",
    "    return sales"
   ]
  },
  {
   "cell_type": "code",
   "execution_count": 163,
   "id": "bca139f0",
   "metadata": {},
   "outputs": [
    {
     "name": "stdout",
     "output_type": "stream",
     "text": [
      "https://python.zgulde.net/api/v1/sales?page=2\n",
      "https://python.zgulde.net/api/v1/sales?page=3\n",
      "https://python.zgulde.net/api/v1/sales?page=4\n",
      "https://python.zgulde.net/api/v1/sales?page=5\n",
      "https://python.zgulde.net/api/v1/sales?page=6\n",
      "https://python.zgulde.net/api/v1/sales?page=7\n",
      "https://python.zgulde.net/api/v1/sales?page=8\n",
      "https://python.zgulde.net/api/v1/sales?page=9\n",
      "https://python.zgulde.net/api/v1/sales?page=10\n",
      "https://python.zgulde.net/api/v1/sales?page=11\n",
      "https://python.zgulde.net/api/v1/sales?page=12\n",
      "https://python.zgulde.net/api/v1/sales?page=13\n",
      "https://python.zgulde.net/api/v1/sales?page=14\n",
      "https://python.zgulde.net/api/v1/sales?page=15\n",
      "https://python.zgulde.net/api/v1/sales?page=16\n",
      "https://python.zgulde.net/api/v1/sales?page=17\n",
      "https://python.zgulde.net/api/v1/sales?page=18\n",
      "https://python.zgulde.net/api/v1/sales?page=19\n",
      "https://python.zgulde.net/api/v1/sales?page=20\n",
      "https://python.zgulde.net/api/v1/sales?page=21\n",
      "https://python.zgulde.net/api/v1/sales?page=22\n",
      "https://python.zgulde.net/api/v1/sales?page=23\n",
      "https://python.zgulde.net/api/v1/sales?page=24\n",
      "https://python.zgulde.net/api/v1/sales?page=25\n",
      "https://python.zgulde.net/api/v1/sales?page=26\n",
      "https://python.zgulde.net/api/v1/sales?page=27\n",
      "https://python.zgulde.net/api/v1/sales?page=28\n",
      "https://python.zgulde.net/api/v1/sales?page=29\n",
      "https://python.zgulde.net/api/v1/sales?page=30\n",
      "https://python.zgulde.net/api/v1/sales?page=31\n",
      "https://python.zgulde.net/api/v1/sales?page=32\n",
      "https://python.zgulde.net/api/v1/sales?page=33\n",
      "https://python.zgulde.net/api/v1/sales?page=34\n",
      "https://python.zgulde.net/api/v1/sales?page=35\n",
      "https://python.zgulde.net/api/v1/sales?page=36\n",
      "https://python.zgulde.net/api/v1/sales?page=37\n",
      "https://python.zgulde.net/api/v1/sales?page=38\n",
      "https://python.zgulde.net/api/v1/sales?page=39\n",
      "https://python.zgulde.net/api/v1/sales?page=40\n",
      "https://python.zgulde.net/api/v1/sales?page=41\n",
      "https://python.zgulde.net/api/v1/sales?page=42\n",
      "https://python.zgulde.net/api/v1/sales?page=43\n",
      "https://python.zgulde.net/api/v1/sales?page=44\n",
      "https://python.zgulde.net/api/v1/sales?page=45\n",
      "https://python.zgulde.net/api/v1/sales?page=46\n",
      "https://python.zgulde.net/api/v1/sales?page=47\n",
      "https://python.zgulde.net/api/v1/sales?page=48\n",
      "https://python.zgulde.net/api/v1/sales?page=49\n",
      "https://python.zgulde.net/api/v1/sales?page=50\n",
      "https://python.zgulde.net/api/v1/sales?page=51\n",
      "https://python.zgulde.net/api/v1/sales?page=52\n",
      "https://python.zgulde.net/api/v1/sales?page=53\n",
      "https://python.zgulde.net/api/v1/sales?page=54\n",
      "https://python.zgulde.net/api/v1/sales?page=55\n",
      "https://python.zgulde.net/api/v1/sales?page=56\n",
      "https://python.zgulde.net/api/v1/sales?page=57\n",
      "https://python.zgulde.net/api/v1/sales?page=58\n",
      "https://python.zgulde.net/api/v1/sales?page=59\n",
      "https://python.zgulde.net/api/v1/sales?page=60\n",
      "https://python.zgulde.net/api/v1/sales?page=61\n",
      "https://python.zgulde.net/api/v1/sales?page=62\n",
      "https://python.zgulde.net/api/v1/sales?page=63\n",
      "https://python.zgulde.net/api/v1/sales?page=64\n",
      "https://python.zgulde.net/api/v1/sales?page=65\n",
      "https://python.zgulde.net/api/v1/sales?page=66\n",
      "https://python.zgulde.net/api/v1/sales?page=67\n",
      "https://python.zgulde.net/api/v1/sales?page=68\n",
      "https://python.zgulde.net/api/v1/sales?page=69\n",
      "https://python.zgulde.net/api/v1/sales?page=70\n",
      "https://python.zgulde.net/api/v1/sales?page=71\n",
      "https://python.zgulde.net/api/v1/sales?page=72\n",
      "https://python.zgulde.net/api/v1/sales?page=73\n",
      "https://python.zgulde.net/api/v1/sales?page=74\n",
      "https://python.zgulde.net/api/v1/sales?page=75\n",
      "https://python.zgulde.net/api/v1/sales?page=76\n",
      "https://python.zgulde.net/api/v1/sales?page=77\n",
      "https://python.zgulde.net/api/v1/sales?page=78\n",
      "https://python.zgulde.net/api/v1/sales?page=79\n",
      "https://python.zgulde.net/api/v1/sales?page=80\n",
      "https://python.zgulde.net/api/v1/sales?page=81\n",
      "https://python.zgulde.net/api/v1/sales?page=82\n",
      "https://python.zgulde.net/api/v1/sales?page=83\n",
      "https://python.zgulde.net/api/v1/sales?page=84\n",
      "https://python.zgulde.net/api/v1/sales?page=85\n",
      "https://python.zgulde.net/api/v1/sales?page=86\n",
      "https://python.zgulde.net/api/v1/sales?page=87\n",
      "https://python.zgulde.net/api/v1/sales?page=88\n",
      "https://python.zgulde.net/api/v1/sales?page=89\n",
      "https://python.zgulde.net/api/v1/sales?page=90\n",
      "https://python.zgulde.net/api/v1/sales?page=91\n",
      "https://python.zgulde.net/api/v1/sales?page=92\n",
      "https://python.zgulde.net/api/v1/sales?page=93\n",
      "https://python.zgulde.net/api/v1/sales?page=94\n",
      "https://python.zgulde.net/api/v1/sales?page=95\n",
      "https://python.zgulde.net/api/v1/sales?page=96\n",
      "https://python.zgulde.net/api/v1/sales?page=97\n",
      "https://python.zgulde.net/api/v1/sales?page=98\n",
      "https://python.zgulde.net/api/v1/sales?page=99\n",
      "https://python.zgulde.net/api/v1/sales?page=100\n",
      "https://python.zgulde.net/api/v1/sales?page=101\n",
      "https://python.zgulde.net/api/v1/sales?page=102\n",
      "https://python.zgulde.net/api/v1/sales?page=103\n",
      "https://python.zgulde.net/api/v1/sales?page=104\n",
      "https://python.zgulde.net/api/v1/sales?page=105\n",
      "https://python.zgulde.net/api/v1/sales?page=106\n",
      "https://python.zgulde.net/api/v1/sales?page=107\n",
      "https://python.zgulde.net/api/v1/sales?page=108\n",
      "https://python.zgulde.net/api/v1/sales?page=109\n",
      "https://python.zgulde.net/api/v1/sales?page=110\n",
      "https://python.zgulde.net/api/v1/sales?page=111\n",
      "https://python.zgulde.net/api/v1/sales?page=112\n",
      "https://python.zgulde.net/api/v1/sales?page=113\n",
      "https://python.zgulde.net/api/v1/sales?page=114\n",
      "https://python.zgulde.net/api/v1/sales?page=115\n",
      "https://python.zgulde.net/api/v1/sales?page=116\n",
      "https://python.zgulde.net/api/v1/sales?page=117\n",
      "https://python.zgulde.net/api/v1/sales?page=118\n",
      "https://python.zgulde.net/api/v1/sales?page=119\n",
      "https://python.zgulde.net/api/v1/sales?page=120\n",
      "https://python.zgulde.net/api/v1/sales?page=121\n",
      "https://python.zgulde.net/api/v1/sales?page=122\n",
      "https://python.zgulde.net/api/v1/sales?page=123\n",
      "https://python.zgulde.net/api/v1/sales?page=124\n",
      "https://python.zgulde.net/api/v1/sales?page=125\n",
      "https://python.zgulde.net/api/v1/sales?page=126\n",
      "https://python.zgulde.net/api/v1/sales?page=127\n",
      "https://python.zgulde.net/api/v1/sales?page=128\n",
      "https://python.zgulde.net/api/v1/sales?page=129\n",
      "https://python.zgulde.net/api/v1/sales?page=130\n",
      "https://python.zgulde.net/api/v1/sales?page=131\n",
      "https://python.zgulde.net/api/v1/sales?page=132\n",
      "https://python.zgulde.net/api/v1/sales?page=133\n",
      "https://python.zgulde.net/api/v1/sales?page=134\n",
      "https://python.zgulde.net/api/v1/sales?page=135\n",
      "https://python.zgulde.net/api/v1/sales?page=136\n",
      "https://python.zgulde.net/api/v1/sales?page=137\n",
      "https://python.zgulde.net/api/v1/sales?page=138\n",
      "https://python.zgulde.net/api/v1/sales?page=139\n",
      "https://python.zgulde.net/api/v1/sales?page=140\n",
      "https://python.zgulde.net/api/v1/sales?page=141\n",
      "https://python.zgulde.net/api/v1/sales?page=142\n",
      "https://python.zgulde.net/api/v1/sales?page=143\n",
      "https://python.zgulde.net/api/v1/sales?page=144\n",
      "https://python.zgulde.net/api/v1/sales?page=145\n",
      "https://python.zgulde.net/api/v1/sales?page=146\n",
      "https://python.zgulde.net/api/v1/sales?page=147\n",
      "https://python.zgulde.net/api/v1/sales?page=148\n",
      "https://python.zgulde.net/api/v1/sales?page=149\n",
      "https://python.zgulde.net/api/v1/sales?page=150\n",
      "https://python.zgulde.net/api/v1/sales?page=151\n",
      "https://python.zgulde.net/api/v1/sales?page=152\n",
      "https://python.zgulde.net/api/v1/sales?page=153\n",
      "https://python.zgulde.net/api/v1/sales?page=154\n",
      "https://python.zgulde.net/api/v1/sales?page=155\n",
      "https://python.zgulde.net/api/v1/sales?page=156\n",
      "https://python.zgulde.net/api/v1/sales?page=157\n",
      "https://python.zgulde.net/api/v1/sales?page=158\n",
      "https://python.zgulde.net/api/v1/sales?page=159\n",
      "https://python.zgulde.net/api/v1/sales?page=160\n",
      "https://python.zgulde.net/api/v1/sales?page=161\n",
      "https://python.zgulde.net/api/v1/sales?page=162\n",
      "https://python.zgulde.net/api/v1/sales?page=163\n",
      "https://python.zgulde.net/api/v1/sales?page=164\n",
      "https://python.zgulde.net/api/v1/sales?page=165\n",
      "https://python.zgulde.net/api/v1/sales?page=166\n",
      "https://python.zgulde.net/api/v1/sales?page=167\n",
      "https://python.zgulde.net/api/v1/sales?page=168\n",
      "https://python.zgulde.net/api/v1/sales?page=169\n",
      "https://python.zgulde.net/api/v1/sales?page=170\n",
      "https://python.zgulde.net/api/v1/sales?page=171\n",
      "https://python.zgulde.net/api/v1/sales?page=172\n",
      "https://python.zgulde.net/api/v1/sales?page=173\n",
      "https://python.zgulde.net/api/v1/sales?page=174\n"
     ]
    },
    {
     "name": "stdout",
     "output_type": "stream",
     "text": [
      "https://python.zgulde.net/api/v1/sales?page=175\n",
      "https://python.zgulde.net/api/v1/sales?page=176\n",
      "https://python.zgulde.net/api/v1/sales?page=177\n",
      "https://python.zgulde.net/api/v1/sales?page=178\n",
      "https://python.zgulde.net/api/v1/sales?page=179\n",
      "https://python.zgulde.net/api/v1/sales?page=180\n",
      "https://python.zgulde.net/api/v1/sales?page=181\n",
      "https://python.zgulde.net/api/v1/sales?page=182\n",
      "https://python.zgulde.net/api/v1/sales?page=183\n"
     ]
    }
   ],
   "source": [
    "df_3 = get_sales_data()\n"
   ]
  },
  {
   "cell_type": "code",
   "execution_count": 164,
   "id": "4240bf04",
   "metadata": {},
   "outputs": [
    {
     "data": {
      "text/html": [
       "<div>\n",
       "<style scoped>\n",
       "    .dataframe tbody tr th:only-of-type {\n",
       "        vertical-align: middle;\n",
       "    }\n",
       "\n",
       "    .dataframe tbody tr th {\n",
       "        vertical-align: top;\n",
       "    }\n",
       "\n",
       "    .dataframe thead th {\n",
       "        text-align: right;\n",
       "    }\n",
       "</style>\n",
       "<table border=\"1\" class=\"dataframe\">\n",
       "  <thead>\n",
       "    <tr style=\"text-align: right;\">\n",
       "      <th></th>\n",
       "      <th>item</th>\n",
       "      <th>sale_amount</th>\n",
       "      <th>sale_date</th>\n",
       "      <th>sale_id</th>\n",
       "      <th>store</th>\n",
       "    </tr>\n",
       "  </thead>\n",
       "  <tbody>\n",
       "    <tr>\n",
       "      <th>0</th>\n",
       "      <td>1</td>\n",
       "      <td>13.0</td>\n",
       "      <td>Tue, 01 Jan 2013 00:00:00 GMT</td>\n",
       "      <td>1</td>\n",
       "      <td>1</td>\n",
       "    </tr>\n",
       "    <tr>\n",
       "      <th>1</th>\n",
       "      <td>1</td>\n",
       "      <td>11.0</td>\n",
       "      <td>Wed, 02 Jan 2013 00:00:00 GMT</td>\n",
       "      <td>2</td>\n",
       "      <td>1</td>\n",
       "    </tr>\n",
       "    <tr>\n",
       "      <th>2</th>\n",
       "      <td>1</td>\n",
       "      <td>14.0</td>\n",
       "      <td>Thu, 03 Jan 2013 00:00:00 GMT</td>\n",
       "      <td>3</td>\n",
       "      <td>1</td>\n",
       "    </tr>\n",
       "    <tr>\n",
       "      <th>3</th>\n",
       "      <td>1</td>\n",
       "      <td>13.0</td>\n",
       "      <td>Fri, 04 Jan 2013 00:00:00 GMT</td>\n",
       "      <td>4</td>\n",
       "      <td>1</td>\n",
       "    </tr>\n",
       "    <tr>\n",
       "      <th>4</th>\n",
       "      <td>1</td>\n",
       "      <td>10.0</td>\n",
       "      <td>Sat, 05 Jan 2013 00:00:00 GMT</td>\n",
       "      <td>5</td>\n",
       "      <td>1</td>\n",
       "    </tr>\n",
       "  </tbody>\n",
       "</table>\n",
       "</div>"
      ],
      "text/plain": [
       "   item  sale_amount                      sale_date  sale_id  store\n",
       "0     1         13.0  Tue, 01 Jan 2013 00:00:00 GMT        1      1\n",
       "1     1         11.0  Wed, 02 Jan 2013 00:00:00 GMT        2      1\n",
       "2     1         14.0  Thu, 03 Jan 2013 00:00:00 GMT        3      1\n",
       "3     1         13.0  Fri, 04 Jan 2013 00:00:00 GMT        4      1\n",
       "4     1         10.0  Sat, 05 Jan 2013 00:00:00 GMT        5      1"
      ]
     },
     "execution_count": 164,
     "metadata": {},
     "output_type": "execute_result"
    }
   ],
   "source": [
    "df_3.head()"
   ]
  },
  {
   "cell_type": "code",
   "execution_count": 165,
   "id": "54af7065",
   "metadata": {},
   "outputs": [
    {
     "data": {
      "text/plain": [
       "(913000, 5)"
      ]
     },
     "execution_count": 165,
     "metadata": {},
     "output_type": "execute_result"
    }
   ],
   "source": [
    "df_3.shape"
   ]
  },
  {
   "cell_type": "markdown",
   "id": "6ddd7c91",
   "metadata": {},
   "source": [
    "## Exercise 5\n",
    "\n",
    "Combine the data from your three separate dataframes into one large dataframe."
   ]
  },
  {
   "cell_type": "code",
   "execution_count": 166,
   "id": "f985cf4d",
   "metadata": {},
   "outputs": [],
   "source": [
    "df = pd.concat([df_1, df_2, df_3], axis = 1)"
   ]
  },
  {
   "cell_type": "code",
   "execution_count": 167,
   "id": "b2590dc7",
   "metadata": {},
   "outputs": [
    {
     "data": {
      "text/html": [
       "<div>\n",
       "<style scoped>\n",
       "    .dataframe tbody tr th:only-of-type {\n",
       "        vertical-align: middle;\n",
       "    }\n",
       "\n",
       "    .dataframe tbody tr th {\n",
       "        vertical-align: top;\n",
       "    }\n",
       "\n",
       "    .dataframe thead th {\n",
       "        text-align: right;\n",
       "    }\n",
       "</style>\n",
       "<table border=\"1\" class=\"dataframe\">\n",
       "  <thead>\n",
       "    <tr style=\"text-align: right;\">\n",
       "      <th></th>\n",
       "      <th>level_0</th>\n",
       "      <th>index</th>\n",
       "      <th>item_brand</th>\n",
       "      <th>item_id</th>\n",
       "      <th>item_name</th>\n",
       "      <th>item_price</th>\n",
       "      <th>item_upc12</th>\n",
       "      <th>item_upc14</th>\n",
       "      <th>store_address</th>\n",
       "      <th>store_city</th>\n",
       "      <th>store_id</th>\n",
       "      <th>store_state</th>\n",
       "      <th>store_zipcode</th>\n",
       "      <th>item</th>\n",
       "      <th>sale_amount</th>\n",
       "      <th>sale_date</th>\n",
       "      <th>sale_id</th>\n",
       "      <th>store</th>\n",
       "    </tr>\n",
       "  </thead>\n",
       "  <tbody>\n",
       "    <tr>\n",
       "      <th>0</th>\n",
       "      <td>0.0</td>\n",
       "      <td>0.0</td>\n",
       "      <td>Riceland</td>\n",
       "      <td>1.0</td>\n",
       "      <td>Riceland American Jazmine Rice</td>\n",
       "      <td>0.84</td>\n",
       "      <td>35200264013</td>\n",
       "      <td>35200264013</td>\n",
       "      <td>12125 Alamo Ranch Pkwy</td>\n",
       "      <td>San Antonio</td>\n",
       "      <td>1.0</td>\n",
       "      <td>TX</td>\n",
       "      <td>78253</td>\n",
       "      <td>1</td>\n",
       "      <td>13.0</td>\n",
       "      <td>Tue, 01 Jan 2013 00:00:00 GMT</td>\n",
       "      <td>1</td>\n",
       "      <td>1</td>\n",
       "    </tr>\n",
       "    <tr>\n",
       "      <th>1</th>\n",
       "      <td>1.0</td>\n",
       "      <td>1.0</td>\n",
       "      <td>Caress</td>\n",
       "      <td>2.0</td>\n",
       "      <td>Caress Velvet Bliss Ultra Silkening Beauty Bar...</td>\n",
       "      <td>6.44</td>\n",
       "      <td>11111065925</td>\n",
       "      <td>11111065925</td>\n",
       "      <td>9255 FM 471 West</td>\n",
       "      <td>San Antonio</td>\n",
       "      <td>2.0</td>\n",
       "      <td>TX</td>\n",
       "      <td>78251</td>\n",
       "      <td>1</td>\n",
       "      <td>11.0</td>\n",
       "      <td>Wed, 02 Jan 2013 00:00:00 GMT</td>\n",
       "      <td>2</td>\n",
       "      <td>1</td>\n",
       "    </tr>\n",
       "    <tr>\n",
       "      <th>2</th>\n",
       "      <td>2.0</td>\n",
       "      <td>2.0</td>\n",
       "      <td>Earths Best</td>\n",
       "      <td>3.0</td>\n",
       "      <td>Earths Best Organic Fruit Yogurt Smoothie Mixe...</td>\n",
       "      <td>2.43</td>\n",
       "      <td>23923330139</td>\n",
       "      <td>23923330139</td>\n",
       "      <td>2118 Fredericksburg Rdj</td>\n",
       "      <td>San Antonio</td>\n",
       "      <td>3.0</td>\n",
       "      <td>TX</td>\n",
       "      <td>78201</td>\n",
       "      <td>1</td>\n",
       "      <td>14.0</td>\n",
       "      <td>Thu, 03 Jan 2013 00:00:00 GMT</td>\n",
       "      <td>3</td>\n",
       "      <td>1</td>\n",
       "    </tr>\n",
       "    <tr>\n",
       "      <th>3</th>\n",
       "      <td>3.0</td>\n",
       "      <td>3.0</td>\n",
       "      <td>Boars Head</td>\n",
       "      <td>4.0</td>\n",
       "      <td>Boars Head Sliced White American Cheese - 120 Ct</td>\n",
       "      <td>3.14</td>\n",
       "      <td>208528800007</td>\n",
       "      <td>208528800007</td>\n",
       "      <td>516 S Flores St</td>\n",
       "      <td>San Antonio</td>\n",
       "      <td>4.0</td>\n",
       "      <td>TX</td>\n",
       "      <td>78204</td>\n",
       "      <td>1</td>\n",
       "      <td>13.0</td>\n",
       "      <td>Fri, 04 Jan 2013 00:00:00 GMT</td>\n",
       "      <td>4</td>\n",
       "      <td>1</td>\n",
       "    </tr>\n",
       "    <tr>\n",
       "      <th>4</th>\n",
       "      <td>4.0</td>\n",
       "      <td>4.0</td>\n",
       "      <td>Back To Nature</td>\n",
       "      <td>5.0</td>\n",
       "      <td>Back To Nature Gluten Free White Cheddar Rice ...</td>\n",
       "      <td>2.61</td>\n",
       "      <td>759283100036</td>\n",
       "      <td>759283100036</td>\n",
       "      <td>1520 Austin Hwy</td>\n",
       "      <td>San Antonio</td>\n",
       "      <td>5.0</td>\n",
       "      <td>TX</td>\n",
       "      <td>78218</td>\n",
       "      <td>1</td>\n",
       "      <td>10.0</td>\n",
       "      <td>Sat, 05 Jan 2013 00:00:00 GMT</td>\n",
       "      <td>5</td>\n",
       "      <td>1</td>\n",
       "    </tr>\n",
       "  </tbody>\n",
       "</table>\n",
       "</div>"
      ],
      "text/plain": [
       "   level_0  index      item_brand  item_id  \\\n",
       "0      0.0    0.0        Riceland      1.0   \n",
       "1      1.0    1.0          Caress      2.0   \n",
       "2      2.0    2.0     Earths Best      3.0   \n",
       "3      3.0    3.0      Boars Head      4.0   \n",
       "4      4.0    4.0  Back To Nature      5.0   \n",
       "\n",
       "                                           item_name  item_price  \\\n",
       "0                     Riceland American Jazmine Rice        0.84   \n",
       "1  Caress Velvet Bliss Ultra Silkening Beauty Bar...        6.44   \n",
       "2  Earths Best Organic Fruit Yogurt Smoothie Mixe...        2.43   \n",
       "3   Boars Head Sliced White American Cheese - 120 Ct        3.14   \n",
       "4  Back To Nature Gluten Free White Cheddar Rice ...        2.61   \n",
       "\n",
       "     item_upc12    item_upc14            store_address   store_city  store_id  \\\n",
       "0   35200264013   35200264013   12125 Alamo Ranch Pkwy  San Antonio       1.0   \n",
       "1   11111065925   11111065925         9255 FM 471 West  San Antonio       2.0   \n",
       "2   23923330139   23923330139  2118 Fredericksburg Rdj  San Antonio       3.0   \n",
       "3  208528800007  208528800007          516 S Flores St  San Antonio       4.0   \n",
       "4  759283100036  759283100036          1520 Austin Hwy  San Antonio       5.0   \n",
       "\n",
       "  store_state store_zipcode  item  sale_amount                      sale_date  \\\n",
       "0          TX         78253     1         13.0  Tue, 01 Jan 2013 00:00:00 GMT   \n",
       "1          TX         78251     1         11.0  Wed, 02 Jan 2013 00:00:00 GMT   \n",
       "2          TX         78201     1         14.0  Thu, 03 Jan 2013 00:00:00 GMT   \n",
       "3          TX         78204     1         13.0  Fri, 04 Jan 2013 00:00:00 GMT   \n",
       "4          TX         78218     1         10.0  Sat, 05 Jan 2013 00:00:00 GMT   \n",
       "\n",
       "   sale_id  store  \n",
       "0        1      1  \n",
       "1        2      1  \n",
       "2        3      1  \n",
       "3        4      1  \n",
       "4        5      1  "
      ]
     },
     "execution_count": 167,
     "metadata": {},
     "output_type": "execute_result"
    }
   ],
   "source": [
    "df.head()"
   ]
  },
  {
   "cell_type": "markdown",
   "id": "7059bc8a",
   "metadata": {},
   "source": [
    "## Exercise 6 \n",
    "\n",
    "Acquire the Open Power Systems Data for Germany, which has been rapidly expanding its renewable energy production in recent years. The data set includes country-wide totals of electricity consumption, wind power production, and solar power production for 2006-2017. You can get the data here: https://raw.githubusercontent.com/jenfly/opsd/master/opsd_germany_daily.csv"
   ]
  },
  {
   "cell_type": "code",
   "execution_count": 169,
   "id": "b499cd7c",
   "metadata": {},
   "outputs": [],
   "source": [
    "base_url = 'https://raw.githubusercontent.com/jenfly/opsd/master/opsd_germany_daily.csv'"
   ]
  },
  {
   "cell_type": "code",
   "execution_count": 179,
   "id": "cd05ef8b",
   "metadata": {},
   "outputs": [],
   "source": [
    "df = pd.read_csv(base_url)"
   ]
  },
  {
   "cell_type": "code",
   "execution_count": 180,
   "id": "40a1460f",
   "metadata": {},
   "outputs": [
    {
     "data": {
      "text/html": [
       "<div>\n",
       "<style scoped>\n",
       "    .dataframe tbody tr th:only-of-type {\n",
       "        vertical-align: middle;\n",
       "    }\n",
       "\n",
       "    .dataframe tbody tr th {\n",
       "        vertical-align: top;\n",
       "    }\n",
       "\n",
       "    .dataframe thead th {\n",
       "        text-align: right;\n",
       "    }\n",
       "</style>\n",
       "<table border=\"1\" class=\"dataframe\">\n",
       "  <thead>\n",
       "    <tr style=\"text-align: right;\">\n",
       "      <th></th>\n",
       "      <th>Date</th>\n",
       "      <th>Consumption</th>\n",
       "      <th>Wind</th>\n",
       "      <th>Solar</th>\n",
       "      <th>Wind+Solar</th>\n",
       "    </tr>\n",
       "  </thead>\n",
       "  <tbody>\n",
       "    <tr>\n",
       "      <th>0</th>\n",
       "      <td>2006-01-01</td>\n",
       "      <td>1069.184</td>\n",
       "      <td>NaN</td>\n",
       "      <td>NaN</td>\n",
       "      <td>NaN</td>\n",
       "    </tr>\n",
       "    <tr>\n",
       "      <th>1</th>\n",
       "      <td>2006-01-02</td>\n",
       "      <td>1380.521</td>\n",
       "      <td>NaN</td>\n",
       "      <td>NaN</td>\n",
       "      <td>NaN</td>\n",
       "    </tr>\n",
       "    <tr>\n",
       "      <th>2</th>\n",
       "      <td>2006-01-03</td>\n",
       "      <td>1442.533</td>\n",
       "      <td>NaN</td>\n",
       "      <td>NaN</td>\n",
       "      <td>NaN</td>\n",
       "    </tr>\n",
       "    <tr>\n",
       "      <th>3</th>\n",
       "      <td>2006-01-04</td>\n",
       "      <td>1457.217</td>\n",
       "      <td>NaN</td>\n",
       "      <td>NaN</td>\n",
       "      <td>NaN</td>\n",
       "    </tr>\n",
       "    <tr>\n",
       "      <th>4</th>\n",
       "      <td>2006-01-05</td>\n",
       "      <td>1477.131</td>\n",
       "      <td>NaN</td>\n",
       "      <td>NaN</td>\n",
       "      <td>NaN</td>\n",
       "    </tr>\n",
       "  </tbody>\n",
       "</table>\n",
       "</div>"
      ],
      "text/plain": [
       "         Date  Consumption  Wind  Solar  Wind+Solar\n",
       "0  2006-01-01     1069.184   NaN    NaN         NaN\n",
       "1  2006-01-02     1380.521   NaN    NaN         NaN\n",
       "2  2006-01-03     1442.533   NaN    NaN         NaN\n",
       "3  2006-01-04     1457.217   NaN    NaN         NaN\n",
       "4  2006-01-05     1477.131   NaN    NaN         NaN"
      ]
     },
     "execution_count": 180,
     "metadata": {},
     "output_type": "execute_result"
    }
   ],
   "source": [
    "df.head()"
   ]
  },
  {
   "cell_type": "code",
   "execution_count": 182,
   "id": "dda1d41a",
   "metadata": {},
   "outputs": [
    {
     "data": {
      "text/plain": [
       "(4383, 5)"
      ]
     },
     "execution_count": 182,
     "metadata": {},
     "output_type": "execute_result"
    }
   ],
   "source": [
    "df.shape"
   ]
  },
  {
   "cell_type": "markdown",
   "id": "e03a2917",
   "metadata": {},
   "source": [
    "## Exercise 7\n",
    "\n",
    "Make sure all the work that you have done above is reproducible. That is, you should put the code above into separate functions in the acquire.py file and be able to re-run the functions and get the same data."
   ]
  },
  {
   "cell_type": "code",
   "execution_count": null,
   "id": "532e195f",
   "metadata": {},
   "outputs": [],
   "source": [
    "## Please see the acquire.py file."
   ]
  }
 ],
 "metadata": {
  "kernelspec": {
   "display_name": "Python 3",
   "language": "python",
   "name": "python3"
  },
  "language_info": {
   "codemirror_mode": {
    "name": "ipython",
    "version": 3
   },
   "file_extension": ".py",
   "mimetype": "text/x-python",
   "name": "python",
   "nbconvert_exporter": "python",
   "pygments_lexer": "ipython3",
   "version": "3.8.8"
  }
 },
 "nbformat": 4,
 "nbformat_minor": 5
}
